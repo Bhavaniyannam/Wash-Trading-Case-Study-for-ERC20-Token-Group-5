{
 "cells": [
  {
   "cell_type": "markdown",
   "metadata": {},
   "source": [
    "# Data Cleaning\n",
    "\n",
    "#### Tasks Completed\n",
    "* Examine the dataset to understand its structure, including columns, data types, and formats. Identify missing values or inconsistencies.\n",
    "* Evaluate the quality of the dataset by identifying errors, duplicates, and outliers. Assess completeness and consistency.\n",
    "* Determine the relevance of the data by mapping dataset attributes to project objectives. Highlight irrelevant or redundant data points.\n",
    "* Summarize key findings from the structure, quality, and relevance analysis. Prepare actionable insights to guide the project."
   ]
  },
  {
   "cell_type": "code",
   "execution_count": 1,
   "metadata": {},
   "outputs": [],
   "source": [
    "import pandas as pd\n",
    "import matplotlib.pyplot as plt\n",
    "import seaborn as sns"
   ]
  },
  {
   "cell_type": "code",
   "execution_count": 2,
   "metadata": {},
   "outputs": [
    {
     "data": {
      "text/html": [
       "<div>\n",
       "<style scoped>\n",
       "    .dataframe tbody tr th:only-of-type {\n",
       "        vertical-align: middle;\n",
       "    }\n",
       "\n",
       "    .dataframe tbody tr th {\n",
       "        vertical-align: top;\n",
       "    }\n",
       "\n",
       "    .dataframe thead th {\n",
       "        text-align: right;\n",
       "    }\n",
       "</style>\n",
       "<table border=\"1\" class=\"dataframe\">\n",
       "  <thead>\n",
       "    <tr style=\"text-align: right;\">\n",
       "      <th></th>\n",
       "      <th>Transaction Hash</th>\n",
       "      <th>Blockno</th>\n",
       "      <th>UnixTimestamp</th>\n",
       "      <th>DateTime (UTC)</th>\n",
       "      <th>From</th>\n",
       "      <th>To</th>\n",
       "      <th>Quantity</th>\n",
       "      <th>Method</th>\n",
       "    </tr>\n",
       "  </thead>\n",
       "  <tbody>\n",
       "    <tr>\n",
       "      <th>0</th>\n",
       "      <td>0x27797428fc8aaf088cc707c8788b5d13580696418c79...</td>\n",
       "      <td>18909018</td>\n",
       "      <td>1704068735</td>\n",
       "      <td>2024-01-01 00:25:35</td>\n",
       "      <td>0x6469b34a2a4723163c4902dbbdea728d20693c12</td>\n",
       "      <td>0x776a0725094cbf984e31b43d17e8aaec3c88294a</td>\n",
       "      <td>36.593837</td>\n",
       "      <td>Sell To Uniswap</td>\n",
       "    </tr>\n",
       "    <tr>\n",
       "      <th>1</th>\n",
       "      <td>0x1fba1d9d11ef9986478f1d964e37f0d1a5abdbc0503e...</td>\n",
       "      <td>18909070</td>\n",
       "      <td>1704069371</td>\n",
       "      <td>2024-01-01 00:36:11</td>\n",
       "      <td>0x983dfba1c0724786598af0e63a9a6f94aabd24a1</td>\n",
       "      <td>0x22f9dcf4647084d6c31b2765f6910cd85c178c18</td>\n",
       "      <td>104.984275</td>\n",
       "      <td>0x415565b0</td>\n",
       "    </tr>\n",
       "    <tr>\n",
       "      <th>2</th>\n",
       "      <td>0x1fba1d9d11ef9986478f1d964e37f0d1a5abdbc0503e...</td>\n",
       "      <td>18909070</td>\n",
       "      <td>1704069371</td>\n",
       "      <td>2024-01-01 00:36:11</td>\n",
       "      <td>0x983dfba1c0724786598af0e63a9a6f94aabd24a1</td>\n",
       "      <td>0x95c4f5b83aa70810d4f142d58e5f7242bd891cb0</td>\n",
       "      <td>0.079035</td>\n",
       "      <td>0x415565b0</td>\n",
       "    </tr>\n",
       "    <tr>\n",
       "      <th>3</th>\n",
       "      <td>0x1fba1d9d11ef9986478f1d964e37f0d1a5abdbc0503e...</td>\n",
       "      <td>18909070</td>\n",
       "      <td>1704069371</td>\n",
       "      <td>2024-01-01 00:36:11</td>\n",
       "      <td>0x22f9dcf4647084d6c31b2765f6910cd85c178c18</td>\n",
       "      <td>0xd98d9d8c5a70df5d5d8e39847ce254347a59816b</td>\n",
       "      <td>104.984275</td>\n",
       "      <td>0x415565b0</td>\n",
       "    </tr>\n",
       "    <tr>\n",
       "      <th>4</th>\n",
       "      <td>0xb8e2f84b80260aa1c1e975e27a59086285e6616ca9cc...</td>\n",
       "      <td>18909149</td>\n",
       "      <td>1704070319</td>\n",
       "      <td>2024-01-01 00:51:59</td>\n",
       "      <td>0x983dfba1c0724786598af0e63a9a6f94aabd24a1</td>\n",
       "      <td>0x22f9dcf4647084d6c31b2765f6910cd85c178c18</td>\n",
       "      <td>10.247435</td>\n",
       "      <td>0x415565b0</td>\n",
       "    </tr>\n",
       "  </tbody>\n",
       "</table>\n",
       "</div>"
      ],
      "text/plain": [
       "                                    Transaction Hash   Blockno  UnixTimestamp  \\\n",
       "0  0x27797428fc8aaf088cc707c8788b5d13580696418c79...  18909018     1704068735   \n",
       "1  0x1fba1d9d11ef9986478f1d964e37f0d1a5abdbc0503e...  18909070     1704069371   \n",
       "2  0x1fba1d9d11ef9986478f1d964e37f0d1a5abdbc0503e...  18909070     1704069371   \n",
       "3  0x1fba1d9d11ef9986478f1d964e37f0d1a5abdbc0503e...  18909070     1704069371   \n",
       "4  0xb8e2f84b80260aa1c1e975e27a59086285e6616ca9cc...  18909149     1704070319   \n",
       "\n",
       "       DateTime (UTC)                                        From  \\\n",
       "0 2024-01-01 00:25:35  0x6469b34a2a4723163c4902dbbdea728d20693c12   \n",
       "1 2024-01-01 00:36:11  0x983dfba1c0724786598af0e63a9a6f94aabd24a1   \n",
       "2 2024-01-01 00:36:11  0x983dfba1c0724786598af0e63a9a6f94aabd24a1   \n",
       "3 2024-01-01 00:36:11  0x22f9dcf4647084d6c31b2765f6910cd85c178c18   \n",
       "4 2024-01-01 00:51:59  0x983dfba1c0724786598af0e63a9a6f94aabd24a1   \n",
       "\n",
       "                                           To    Quantity           Method  \n",
       "0  0x776a0725094cbf984e31b43d17e8aaec3c88294a   36.593837  Sell To Uniswap  \n",
       "1  0x22f9dcf4647084d6c31b2765f6910cd85c178c18  104.984275       0x415565b0  \n",
       "2  0x95c4f5b83aa70810d4f142d58e5f7242bd891cb0    0.079035       0x415565b0  \n",
       "3  0xd98d9d8c5a70df5d5d8e39847ce254347a59816b  104.984275       0x415565b0  \n",
       "4  0x22f9dcf4647084d6c31b2765f6910cd85c178c18   10.247435       0x415565b0  "
      ]
     },
     "execution_count": 2,
     "metadata": {},
     "output_type": "execute_result"
    }
   ],
   "source": [
    "\n",
    "data = pd.read_excel('../../Data/transaction.xlsx')\n",
    "data.head()"
   ]
  },
  {
   "cell_type": "code",
   "execution_count": 3,
   "metadata": {},
   "outputs": [
    {
     "data": {
      "text/plain": [
       "(19836, 8)"
      ]
     },
     "execution_count": 3,
     "metadata": {},
     "output_type": "execute_result"
    }
   ],
   "source": [
    "data.shape\n"
   ]
  },
  {
   "cell_type": "code",
   "execution_count": 4,
   "metadata": {},
   "outputs": [
    {
     "data": {
      "text/plain": [
       "Index(['Transaction Hash', 'Blockno', 'UnixTimestamp', 'DateTime (UTC)',\n",
       "       'From', 'To', 'Quantity', 'Method'],\n",
       "      dtype='object')"
      ]
     },
     "execution_count": 4,
     "metadata": {},
     "output_type": "execute_result"
    }
   ],
   "source": [
    "data.columns"
   ]
  },
  {
   "cell_type": "code",
   "execution_count": 5,
   "metadata": {},
   "outputs": [
    {
     "data": {
      "text/plain": [
       "Transaction Hash            object\n",
       "Blockno                      int64\n",
       "UnixTimestamp                int64\n",
       "DateTime (UTC)      datetime64[ns]\n",
       "From                        object\n",
       "To                          object\n",
       "Quantity                   float64\n",
       "Method                      object\n",
       "dtype: object"
      ]
     },
     "execution_count": 5,
     "metadata": {},
     "output_type": "execute_result"
    }
   ],
   "source": [
    "data.dtypes"
   ]
  },
  {
   "cell_type": "code",
   "execution_count": 6,
   "metadata": {},
   "outputs": [
    {
     "data": {
      "text/html": [
       "<div>\n",
       "<style scoped>\n",
       "    .dataframe tbody tr th:only-of-type {\n",
       "        vertical-align: middle;\n",
       "    }\n",
       "\n",
       "    .dataframe tbody tr th {\n",
       "        vertical-align: top;\n",
       "    }\n",
       "\n",
       "    .dataframe thead th {\n",
       "        text-align: right;\n",
       "    }\n",
       "</style>\n",
       "<table border=\"1\" class=\"dataframe\">\n",
       "  <thead>\n",
       "    <tr style=\"text-align: right;\">\n",
       "      <th></th>\n",
       "      <th>Blockno</th>\n",
       "      <th>UnixTimestamp</th>\n",
       "      <th>Quantity</th>\n",
       "    </tr>\n",
       "  </thead>\n",
       "  <tbody>\n",
       "    <tr>\n",
       "      <th>count</th>\n",
       "      <td>1.983600e+04</td>\n",
       "      <td>1.983600e+04</td>\n",
       "      <td>19836.000000</td>\n",
       "    </tr>\n",
       "    <tr>\n",
       "      <th>mean</th>\n",
       "      <td>1.968441e+07</td>\n",
       "      <td>1.713463e+09</td>\n",
       "      <td>377.944387</td>\n",
       "    </tr>\n",
       "    <tr>\n",
       "      <th>std</th>\n",
       "      <td>3.220605e+05</td>\n",
       "      <td>3.898956e+06</td>\n",
       "      <td>8007.345063</td>\n",
       "    </tr>\n",
       "    <tr>\n",
       "      <th>min</th>\n",
       "      <td>1.890902e+07</td>\n",
       "      <td>1.704069e+09</td>\n",
       "      <td>0.000000</td>\n",
       "    </tr>\n",
       "    <tr>\n",
       "      <th>25%</th>\n",
       "      <td>1.946597e+07</td>\n",
       "      <td>1.710817e+09</td>\n",
       "      <td>3.213580</td>\n",
       "    </tr>\n",
       "    <tr>\n",
       "      <th>50%</th>\n",
       "      <td>1.973666e+07</td>\n",
       "      <td>1.714100e+09</td>\n",
       "      <td>72.444861</td>\n",
       "    </tr>\n",
       "    <tr>\n",
       "      <th>75%</th>\n",
       "      <td>1.993754e+07</td>\n",
       "      <td>1.716527e+09</td>\n",
       "      <td>293.678666</td>\n",
       "    </tr>\n",
       "    <tr>\n",
       "      <th>max</th>\n",
       "      <td>2.017186e+07</td>\n",
       "      <td>1.719357e+09</td>\n",
       "      <td>750000.000000</td>\n",
       "    </tr>\n",
       "  </tbody>\n",
       "</table>\n",
       "</div>"
      ],
      "text/plain": [
       "            Blockno  UnixTimestamp       Quantity\n",
       "count  1.983600e+04   1.983600e+04   19836.000000\n",
       "mean   1.968441e+07   1.713463e+09     377.944387\n",
       "std    3.220605e+05   3.898956e+06    8007.345063\n",
       "min    1.890902e+07   1.704069e+09       0.000000\n",
       "25%    1.946597e+07   1.710817e+09       3.213580\n",
       "50%    1.973666e+07   1.714100e+09      72.444861\n",
       "75%    1.993754e+07   1.716527e+09     293.678666\n",
       "max    2.017186e+07   1.719357e+09  750000.000000"
      ]
     },
     "execution_count": 6,
     "metadata": {},
     "output_type": "execute_result"
    }
   ],
   "source": [
    "data.describe()"
   ]
  },
  {
   "cell_type": "code",
   "execution_count": 7,
   "metadata": {},
   "outputs": [
    {
     "data": {
      "text/plain": [
       "Transaction Hash    0\n",
       "Blockno             0\n",
       "UnixTimestamp       0\n",
       "DateTime (UTC)      0\n",
       "From                0\n",
       "To                  0\n",
       "Quantity            0\n",
       "Method              0\n",
       "dtype: int64"
      ]
     },
     "execution_count": 7,
     "metadata": {},
     "output_type": "execute_result"
    }
   ],
   "source": [
    "data.isnull().sum()"
   ]
  },
  {
   "cell_type": "code",
   "execution_count": 8,
   "metadata": {},
   "outputs": [
    {
     "data": {
      "text/plain": [
       "array(['0x27797428fc8aaf088cc707c8788b5d13580696418c79190eda04823ab70d7eb7',\n",
       "       '0x1fba1d9d11ef9986478f1d964e37f0d1a5abdbc0503e8336290b7272ba73bc51',\n",
       "       '0xb8e2f84b80260aa1c1e975e27a59086285e6616ca9ccbd7d24e2a8b90c294c05',\n",
       "       ...,\n",
       "       '0xbd236aea3d8e798143581b8c941c301916ecdce2e6ef013e6064df58a432b343',\n",
       "       '0xe6b3867b6a620644689ba43af59f3b3e0eade9c4d76442e9373f8a5422fc2452',\n",
       "       '0x37dfd226ef55d464641ec94fc675ad3692d9af34713215816420b4556a7f8b0a'],\n",
       "      dtype=object)"
      ]
     },
     "execution_count": 8,
     "metadata": {},
     "output_type": "execute_result"
    }
   ],
   "source": [
    "data['Transaction Hash'].unique()"
   ]
  },
  {
   "cell_type": "code",
   "execution_count": 9,
   "metadata": {},
   "outputs": [
    {
     "data": {
      "text/plain": [
       "0x630d72d417c6da379ffc6acf3688fcce84792e4a93d6fea8e1ce70ee202088f3    15\n",
       "0x0d9678769f1943a9f81c7e50f690bfbd797bdfe1624dc94d8a15f513c91f75f0    12\n",
       "0x705092688310291813c1057081c022dfdb54825a408bece4e773d591f288cf36    11\n",
       "0xbff846f99284bed5bdac6a318c0ee2ef5da22a9c321aa8b7f44c4a02431fdf24    11\n",
       "0x377e726d31cf8e60584cea5b9fb79720ff3dff87ae4413afcb5c8f17269f72b0    11\n",
       "                                                                      ..\n",
       "0x5d712a4cad451b5826e5952d4eec8be34b65bf201c02e3e8fcbbd877caa7ddb4     1\n",
       "0x1937aaea921b1b8f74ab69c9b14006aa0c50e6d89cea649d81f74a4ad20ba9a2     1\n",
       "0x7c3d6c737193b7dd1473aeb59e5a89f3ea367a04a4b22ea939738e3bb369cd07     1\n",
       "0x76ea380c6b373829cea031c4bd5d34948beabb7903307e9eb257bd8f9763c54d     1\n",
       "0x27797428fc8aaf088cc707c8788b5d13580696418c79190eda04823ab70d7eb7     1\n",
       "Name: Transaction Hash, Length: 9787, dtype: int64"
      ]
     },
     "execution_count": 9,
     "metadata": {},
     "output_type": "execute_result"
    }
   ],
   "source": [
    "data['Transaction Hash'].value_counts()"
   ]
  },
  {
   "cell_type": "code",
   "execution_count": 10,
   "metadata": {},
   "outputs": [
    {
     "name": "stdout",
     "output_type": "stream",
     "text": [
      "                Blockno  UnixTimestamp  Quantity\n",
      "Blockno        1.000000       0.999999  0.005760\n",
      "UnixTimestamp  0.999999       1.000000  0.005759\n",
      "Quantity       0.005760       0.005759  1.000000\n"
     ]
    },
    {
     "data": {
      "image/png": "[encoded data removed]",
      "text/plain": [
       "<Figure size 640x480 with 2 Axes>"
      ]
     },
     "metadata": {},
     "output_type": "display_data"
    }
   ],
   "source": [
    "# Select only numerical columns for correlation calculation\n",
    "numerical_data = data.select_dtypes(include=['number'])\n",
    "correlation_matrix = numerical_data.corr()\n",
    "\n",
    "# Display the correlation matrix\n",
    "print(correlation_matrix)\n",
    "\n",
    "# Optionally, visualize the correlation matrix using a heatmap\n",
    "import seaborn as sns\n",
    "import matplotlib.pyplot as plt\n",
    "\n",
    "sns.heatmap(correlation_matrix, annot=True, cmap='coolwarm')\n",
    "plt.show()"
   ]
  },
  {
   "cell_type": "code",
   "execution_count": 11,
   "metadata": {},
   "outputs": [
    {
     "data": {
      "text/html": [
       "<div>\n",
       "<style scoped>\n",
       "    .dataframe tbody tr th:only-of-type {\n",
       "        vertical-align: middle;\n",
       "    }\n",
       "\n",
       "    .dataframe tbody tr th {\n",
       "        vertical-align: top;\n",
       "    }\n",
       "\n",
       "    .dataframe thead th {\n",
       "        text-align: right;\n",
       "    }\n",
       "</style>\n",
       "<table border=\"1\" class=\"dataframe\">\n",
       "  <thead>\n",
       "    <tr style=\"text-align: right;\">\n",
       "      <th></th>\n",
       "      <th>Transaction Hash</th>\n",
       "      <th>Blockno</th>\n",
       "      <th>UnixTimestamp</th>\n",
       "      <th>DateTime (UTC)</th>\n",
       "      <th>From</th>\n",
       "      <th>To</th>\n",
       "      <th>Quantity</th>\n",
       "      <th>Method</th>\n",
       "    </tr>\n",
       "  </thead>\n",
       "  <tbody>\n",
       "    <tr>\n",
       "      <th>0</th>\n",
       "      <td>0x27797428fc8aaf088cc707c8788b5d13580696418c79...</td>\n",
       "      <td>18909018</td>\n",
       "      <td>1704068735</td>\n",
       "      <td>2024-01-01 00:25:35</td>\n",
       "      <td>0x6469b34a2a4723163c4902dbbdea728d20693c12</td>\n",
       "      <td>0x776a0725094cbf984e31b43d17e8aaec3c88294a</td>\n",
       "      <td>36.593837</td>\n",
       "      <td>Sell To Uniswap</td>\n",
       "    </tr>\n",
       "    <tr>\n",
       "      <th>1</th>\n",
       "      <td>0x1fba1d9d11ef9986478f1d964e37f0d1a5abdbc0503e...</td>\n",
       "      <td>18909070</td>\n",
       "      <td>1704069371</td>\n",
       "      <td>2024-01-01 00:36:11</td>\n",
       "      <td>0x983dfba1c0724786598af0e63a9a6f94aabd24a1</td>\n",
       "      <td>0x22f9dcf4647084d6c31b2765f6910cd85c178c18</td>\n",
       "      <td>104.984275</td>\n",
       "      <td>0x415565b0</td>\n",
       "    </tr>\n",
       "    <tr>\n",
       "      <th>2</th>\n",
       "      <td>0x1fba1d9d11ef9986478f1d964e37f0d1a5abdbc0503e...</td>\n",
       "      <td>18909070</td>\n",
       "      <td>1704069371</td>\n",
       "      <td>2024-01-01 00:36:11</td>\n",
       "      <td>0x983dfba1c0724786598af0e63a9a6f94aabd24a1</td>\n",
       "      <td>0x95c4f5b83aa70810d4f142d58e5f7242bd891cb0</td>\n",
       "      <td>0.079035</td>\n",
       "      <td>0x415565b0</td>\n",
       "    </tr>\n",
       "    <tr>\n",
       "      <th>3</th>\n",
       "      <td>0x1fba1d9d11ef9986478f1d964e37f0d1a5abdbc0503e...</td>\n",
       "      <td>18909070</td>\n",
       "      <td>1704069371</td>\n",
       "      <td>2024-01-01 00:36:11</td>\n",
       "      <td>0x22f9dcf4647084d6c31b2765f6910cd85c178c18</td>\n",
       "      <td>0xd98d9d8c5a70df5d5d8e39847ce254347a59816b</td>\n",
       "      <td>104.984275</td>\n",
       "      <td>0x415565b0</td>\n",
       "    </tr>\n",
       "    <tr>\n",
       "      <th>4</th>\n",
       "      <td>0xb8e2f84b80260aa1c1e975e27a59086285e6616ca9cc...</td>\n",
       "      <td>18909149</td>\n",
       "      <td>1704070319</td>\n",
       "      <td>2024-01-01 00:51:59</td>\n",
       "      <td>0x983dfba1c0724786598af0e63a9a6f94aabd24a1</td>\n",
       "      <td>0x22f9dcf4647084d6c31b2765f6910cd85c178c18</td>\n",
       "      <td>10.247435</td>\n",
       "      <td>0x415565b0</td>\n",
       "    </tr>\n",
       "    <tr>\n",
       "      <th>...</th>\n",
       "      <td>...</td>\n",
       "      <td>...</td>\n",
       "      <td>...</td>\n",
       "      <td>...</td>\n",
       "      <td>...</td>\n",
       "      <td>...</td>\n",
       "      <td>...</td>\n",
       "      <td>...</td>\n",
       "    </tr>\n",
       "    <tr>\n",
       "      <th>19828</th>\n",
       "      <td>0xbd236aea3d8e798143581b8c941c301916ecdce2e6ef...</td>\n",
       "      <td>20171628</td>\n",
       "      <td>1719353855</td>\n",
       "      <td>2024-06-25 22:17:35</td>\n",
       "      <td>0x983dfba1c0724786598af0e63a9a6f94aabd24a1</td>\n",
       "      <td>0x95c4f5b83aa70810d4f142d58e5f7242bd891cb0</td>\n",
       "      <td>0.061537</td>\n",
       "      <td>0x415565b0</td>\n",
       "    </tr>\n",
       "    <tr>\n",
       "      <th>19833</th>\n",
       "      <td>0x37dfd226ef55d464641ec94fc675ad3692d9af347132...</td>\n",
       "      <td>20171862</td>\n",
       "      <td>1719356675</td>\n",
       "      <td>2024-06-25 23:04:35</td>\n",
       "      <td>0xe4b7538c2e2bc683a3e84ea67aded2dff6c8cef5</td>\n",
       "      <td>0x28104d4f703ee5b5011cefe106f54efd56f33f95</td>\n",
       "      <td>1198.366157</td>\n",
       "      <td>Swap Compact</td>\n",
       "    </tr>\n",
       "    <tr>\n",
       "      <th>19834</th>\n",
       "      <td>0x37dfd226ef55d464641ec94fc675ad3692d9af347132...</td>\n",
       "      <td>20171862</td>\n",
       "      <td>1719356675</td>\n",
       "      <td>2024-06-25 23:04:35</td>\n",
       "      <td>0x28104d4f703ee5b5011cefe106f54efd56f33f95</td>\n",
       "      <td>0xee8aaa362a75fbf8e0a38a50ddc27f38551e16ea</td>\n",
       "      <td>706.115108</td>\n",
       "      <td>Swap Compact</td>\n",
       "    </tr>\n",
       "    <tr>\n",
       "      <th>19832</th>\n",
       "      <td>0xe6b3867b6a620644689ba43af59f3b3e0eade9c4d764...</td>\n",
       "      <td>20171862</td>\n",
       "      <td>1719356675</td>\n",
       "      <td>2024-06-25 23:04:35</td>\n",
       "      <td>0x6469b34a2a4723163c4902dbbdea728d20693c12</td>\n",
       "      <td>0xee8aaa362a75fbf8e0a38a50ddc27f38551e16ea</td>\n",
       "      <td>81.711825</td>\n",
       "      <td>-</td>\n",
       "    </tr>\n",
       "    <tr>\n",
       "      <th>19835</th>\n",
       "      <td>0x37dfd226ef55d464641ec94fc675ad3692d9af347132...</td>\n",
       "      <td>20171862</td>\n",
       "      <td>1719356675</td>\n",
       "      <td>2024-06-25 23:04:35</td>\n",
       "      <td>0x28104d4f703ee5b5011cefe106f54efd56f33f95</td>\n",
       "      <td>0x983dfba1c0724786598af0e63a9a6f94aabd24a1</td>\n",
       "      <td>492.251048</td>\n",
       "      <td>Swap Compact</td>\n",
       "    </tr>\n",
       "  </tbody>\n",
       "</table>\n",
       "<p>19836 rows × 8 columns</p>\n",
       "</div>"
      ],
      "text/plain": [
       "                                        Transaction Hash   Blockno  \\\n",
       "0      0x27797428fc8aaf088cc707c8788b5d13580696418c79...  18909018   \n",
       "1      0x1fba1d9d11ef9986478f1d964e37f0d1a5abdbc0503e...  18909070   \n",
       "2      0x1fba1d9d11ef9986478f1d964e37f0d1a5abdbc0503e...  18909070   \n",
       "3      0x1fba1d9d11ef9986478f1d964e37f0d1a5abdbc0503e...  18909070   \n",
       "4      0xb8e2f84b80260aa1c1e975e27a59086285e6616ca9cc...  18909149   \n",
       "...                                                  ...       ...   \n",
       "19828  0xbd236aea3d8e798143581b8c941c301916ecdce2e6ef...  20171628   \n",
       "19833  0x37dfd226ef55d464641ec94fc675ad3692d9af347132...  20171862   \n",
       "19834  0x37dfd226ef55d464641ec94fc675ad3692d9af347132...  20171862   \n",
       "19832  0xe6b3867b6a620644689ba43af59f3b3e0eade9c4d764...  20171862   \n",
       "19835  0x37dfd226ef55d464641ec94fc675ad3692d9af347132...  20171862   \n",
       "\n",
       "       UnixTimestamp      DateTime (UTC)  \\\n",
       "0         1704068735 2024-01-01 00:25:35   \n",
       "1         1704069371 2024-01-01 00:36:11   \n",
       "2         1704069371 2024-01-01 00:36:11   \n",
       "3         1704069371 2024-01-01 00:36:11   \n",
       "4         1704070319 2024-01-01 00:51:59   \n",
       "...              ...                 ...   \n",
       "19828     1719353855 2024-06-25 22:17:35   \n",
       "19833     1719356675 2024-06-25 23:04:35   \n",
       "19834     1719356675 2024-06-25 23:04:35   \n",
       "19832     1719356675 2024-06-25 23:04:35   \n",
       "19835     1719356675 2024-06-25 23:04:35   \n",
       "\n",
       "                                             From  \\\n",
       "0      0x6469b34a2a4723163c4902dbbdea728d20693c12   \n",
       "1      0x983dfba1c0724786598af0e63a9a6f94aabd24a1   \n",
       "2      0x983dfba1c0724786598af0e63a9a6f94aabd24a1   \n",
       "3      0x22f9dcf4647084d6c31b2765f6910cd85c178c18   \n",
       "4      0x983dfba1c0724786598af0e63a9a6f94aabd24a1   \n",
       "...                                           ...   \n",
       "19828  0x983dfba1c0724786598af0e63a9a6f94aabd24a1   \n",
       "19833  0xe4b7538c2e2bc683a3e84ea67aded2dff6c8cef5   \n",
       "19834  0x28104d4f703ee5b5011cefe106f54efd56f33f95   \n",
       "19832  0x6469b34a2a4723163c4902dbbdea728d20693c12   \n",
       "19835  0x28104d4f703ee5b5011cefe106f54efd56f33f95   \n",
       "\n",
       "                                               To     Quantity  \\\n",
       "0      0x776a0725094cbf984e31b43d17e8aaec3c88294a    36.593837   \n",
       "1      0x22f9dcf4647084d6c31b2765f6910cd85c178c18   104.984275   \n",
       "2      0x95c4f5b83aa70810d4f142d58e5f7242bd891cb0     0.079035   \n",
       "3      0xd98d9d8c5a70df5d5d8e39847ce254347a59816b   104.984275   \n",
       "4      0x22f9dcf4647084d6c31b2765f6910cd85c178c18    10.247435   \n",
       "...                                           ...          ...   \n",
       "19828  0x95c4f5b83aa70810d4f142d58e5f7242bd891cb0     0.061537   \n",
       "19833  0x28104d4f703ee5b5011cefe106f54efd56f33f95  1198.366157   \n",
       "19834  0xee8aaa362a75fbf8e0a38a50ddc27f38551e16ea   706.115108   \n",
       "19832  0xee8aaa362a75fbf8e0a38a50ddc27f38551e16ea    81.711825   \n",
       "19835  0x983dfba1c0724786598af0e63a9a6f94aabd24a1   492.251048   \n",
       "\n",
       "                Method  \n",
       "0      Sell To Uniswap  \n",
       "1           0x415565b0  \n",
       "2           0x415565b0  \n",
       "3           0x415565b0  \n",
       "4           0x415565b0  \n",
       "...                ...  \n",
       "19828       0x415565b0  \n",
       "19833     Swap Compact  \n",
       "19834     Swap Compact  \n",
       "19832                -  \n",
       "19835     Swap Compact  \n",
       "\n",
       "[19836 rows x 8 columns]"
      ]
     },
     "execution_count": 11,
     "metadata": {},
     "output_type": "execute_result"
    }
   ],
   "source": [
    "data.sort_values(by='UnixTimestamp')"
   ]
  },
  {
   "cell_type": "code",
   "execution_count": 12,
   "metadata": {},
   "outputs": [
    {
     "data": {
      "text/plain": [
       "<AxesSubplot:>"
      ]
     },
     "execution_count": 12,
     "metadata": {},
     "output_type": "execute_result"
    },
    {
     "data": {
      "image/png": "[encoded data removed]",
      "text/plain": [
       "<Figure size 640x480 with 1 Axes>"
      ]
     },
     "metadata": {},
     "output_type": "display_data"
    }
   ],
   "source": [
    "data['Blockno'].hist()"
   ]
  },
  {
   "cell_type": "code",
   "execution_count": 13,
   "metadata": {},
   "outputs": [
    {
     "data": {
      "text/plain": [
       "<AxesSubplot:xlabel='UnixTimestamp'>"
      ]
     },
     "execution_count": 13,
     "metadata": {},
     "output_type": "execute_result"
    },
    {
     "data": {
      "image/png": "[encoded data removed]",
      "text/plain": [
       "<Figure size 640x480 with 1 Axes>"
      ]
     },
     "metadata": {},
     "output_type": "display_data"
    }
   ],
   "source": [
    "sns.boxplot(data=data,x='UnixTimestamp')"
   ]
  },
  {
   "cell_type": "code",
   "execution_count": 14,
   "metadata": {},
   "outputs": [
    {
     "data": {
      "text/plain": [
       "<AxesSubplot:>"
      ]
     },
     "execution_count": 14,
     "metadata": {},
     "output_type": "execute_result"
    },
    {
     "data": {
      "image/png": "[encoded data removed]",
      "text/plain": [
       "<Figure size 640x480 with 2 Axes>"
      ]
     },
     "metadata": {},
     "output_type": "display_data"
    }
   ],
   "source": [
    "sns.heatmap(data.select_dtypes(include=['number']).corr(),annot=True)"
   ]
  },
  {
   "cell_type": "code",
   "execution_count": 15,
   "metadata": {},
   "outputs": [
    {
     "name": "stdout",
     "output_type": "stream",
     "text": [
      "Initial Dataset Overview:\n",
      "<class 'pandas.core.frame.DataFrame'>\n",
      "RangeIndex: 19836 entries, 0 to 19835\n",
      "Data columns (total 8 columns):\n",
      " #   Column            Non-Null Count  Dtype         \n",
      "---  ------            --------------  -----         \n",
      " 0   Transaction Hash  19836 non-null  object        \n",
      " 1   Blockno           19836 non-null  int64         \n",
      " 2   UnixTimestamp     19836 non-null  int64         \n",
      " 3   DateTime (UTC)    19836 non-null  datetime64[ns]\n",
      " 4   From              19836 non-null  object        \n",
      " 5   To                19836 non-null  object        \n",
      " 6   Quantity          19836 non-null  float64       \n",
      " 7   Method            19836 non-null  object        \n",
      "dtypes: datetime64[ns](1), float64(1), int64(2), object(4)\n",
      "memory usage: 1.2+ MB\n",
      "None\n",
      "\n",
      "Sample Rows:\n",
      "                                    Transaction Hash   Blockno  UnixTimestamp  \\\n",
      "0  0x27797428fc8aaf088cc707c8788b5d13580696418c79...  18909018     1704068735   \n",
      "1  0x1fba1d9d11ef9986478f1d964e37f0d1a5abdbc0503e...  18909070     1704069371   \n",
      "2  0x1fba1d9d11ef9986478f1d964e37f0d1a5abdbc0503e...  18909070     1704069371   \n",
      "3  0x1fba1d9d11ef9986478f1d964e37f0d1a5abdbc0503e...  18909070     1704069371   \n",
      "4  0xb8e2f84b80260aa1c1e975e27a59086285e6616ca9cc...  18909149     1704070319   \n",
      "\n",
      "       DateTime (UTC)                                        From  \\\n",
      "0 2024-01-01 00:25:35  0x6469b34a2a4723163c4902dbbdea728d20693c12   \n",
      "1 2024-01-01 00:36:11  0x983dfba1c0724786598af0e63a9a6f94aabd24a1   \n",
      "2 2024-01-01 00:36:11  0x983dfba1c0724786598af0e63a9a6f94aabd24a1   \n",
      "3 2024-01-01 00:36:11  0x22f9dcf4647084d6c31b2765f6910cd85c178c18   \n",
      "4 2024-01-01 00:51:59  0x983dfba1c0724786598af0e63a9a6f94aabd24a1   \n",
      "\n",
      "                                           To    Quantity           Method  \n",
      "0  0x776a0725094cbf984e31b43d17e8aaec3c88294a   36.593837  Sell To Uniswap  \n",
      "1  0x22f9dcf4647084d6c31b2765f6910cd85c178c18  104.984275       0x415565b0  \n",
      "2  0x95c4f5b83aa70810d4f142d58e5f7242bd891cb0    0.079035       0x415565b0  \n",
      "3  0xd98d9d8c5a70df5d5d8e39847ce254347a59816b  104.984275       0x415565b0  \n",
      "4  0x22f9dcf4647084d6c31b2765f6910cd85c178c18   10.247435       0x415565b0  \n"
     ]
    }
   ],
   "source": [
    "# Step 2: Preliminary Data Overview\n",
    "print(\"Initial Dataset Overview:\")\n",
    "print(data.info())\n",
    "print(\"\\nSample Rows:\")\n",
    "print(data.head())\n"
   ]
  },
  {
   "cell_type": "code",
   "execution_count": 18,
   "metadata": {},
   "outputs": [
    {
     "name": "stdout",
     "output_type": "stream",
     "text": [
      "Number of duplicate rows: 7\n"
     ]
    }
   ],
   "source": [
    "# Check for duplicates in the entire DataFrame\n",
    "duplicates = data[data.duplicated()]\n",
    "# Print the number of duplicate rows\n",
    "print(\"Number of duplicate rows:\", duplicates.shape[0])\n",
    "data = data.drop_duplicates()"
   ]
  },
  {
   "cell_type": "code",
   "execution_count": 19,
   "metadata": {},
   "outputs": [],
   "source": [
    "# Removing duplicates\n",
    "data = data.drop_duplicates()"
   ]
  },
  {
   "cell_type": "code",
   "execution_count": 20,
   "metadata": {},
   "outputs": [],
   "source": [
    "# Step 3: Check for Relevance (Assume objectives provided as a list of relevant columns)\n",
    "project_objectives = ['Relevant_Column1', 'Relevant_Column2']  # Replace with actual objectives\n",
    "all_columns = data.columns.tolist()"
   ]
  },
  {
   "cell_type": "code",
   "execution_count": 21,
   "metadata": {},
   "outputs": [
    {
     "name": "stdout",
     "output_type": "stream",
     "text": [
      "\n",
      "Irrelevant Columns: ['Transaction Hash', 'Blockno', 'UnixTimestamp', 'DateTime (UTC)', 'From', 'To', 'Quantity', 'Method']\n",
      "Redundant Columns: []\n"
     ]
    }
   ],
   "source": [
    "# Find irrelevant/redundant columns\n",
    "irrelevant_columns = [col for col in all_columns if col not in project_objectives]\n",
    "redundant_columns = [col for col in data.columns if data[col].nunique() == 1]\n",
    "print(\"\\nIrrelevant Columns:\", irrelevant_columns)\n",
    "print(\"Redundant Columns:\", redundant_columns)\n",
    "# Drop irrelevant/redundant columns (optional)\n",
    "data_cleaned = data.drop(columns=irrelevant_columns + redundant_columns, errors='ignore')\n",
    "\n"
   ]
  },
  {
   "cell_type": "code",
   "execution_count": 22,
   "metadata": {},
   "outputs": [
    {
     "name": "stdout",
     "output_type": "stream",
     "text": [
      "\n",
      "Missing Data Summary (per column):\n",
      "Series([], dtype: float64)\n",
      "Total Rows with Missing Data: 0\n"
     ]
    }
   ],
   "source": [
    "# Step 4: Missing Values Analysis\n",
    "missing_data_summary = data_cleaned.isnull().sum()\n",
    "missing_data_rows = data_cleaned.isnull().any(axis=1).sum()\n",
    "\n",
    "print(\"\\nMissing Data Summary (per column):\")\n",
    "print(missing_data_summary)\n",
    "print(f\"Total Rows with Missing Data: {missing_data_rows}\")"
   ]
  },
  {
   "cell_type": "code",
   "execution_count": 23,
   "metadata": {},
   "outputs": [
    {
     "name": "stdout",
     "output_type": "stream",
     "text": [
      "\n",
      "Critical Columns with Missing Data: []\n"
     ]
    }
   ],
   "source": [
    "# Step 5: Assess Impact (qualitative decision based on project objectives)\n",
    "critical_columns = [col for col in project_objectives if col in data_cleaned.columns and data_cleaned[col].isnull().any()]\n",
    "\n",
    "print(\"\\nCritical Columns with Missing Data:\", critical_columns)\n"
   ]
  },
  {
   "cell_type": "code",
   "execution_count": null,
   "metadata": {},
   "outputs": [],
   "source": []
  }
 ],
 "metadata": {
  "kernelspec": {
   "display_name": "base",
   "language": "python",
   "name": "python3"
  },
  "language_info": {
   "codemirror_mode": {
    "name": "ipython",
    "version": 3
   },
   "file_extension": ".py",
   "mimetype": "text/x-python",
   "name": "python",
   "nbconvert_exporter": "python",
   "pygments_lexer": "ipython3",
   "version": "3.9.13"
  }
 },
 "nbformat": 4,
 "nbformat_minor": 2
}
